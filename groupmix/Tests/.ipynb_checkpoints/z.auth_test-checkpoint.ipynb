{
 "cells": [
  {
   "cell_type": "code",
   "execution_count": null,
   "metadata": {},
   "outputs": [],
   "source": [
    "import spotipy\n",
    "from spotipy.oauth2 import SpotifyClientCredentials\n",
    "import spotipy.util as util\n",
    "\n",
    "\n",
    "#input_username = input(\"Username:\")\n",
    "\n",
    "#client_credentials_manager = SpotifyClientCredentials(client_id = 'b9c0a9e7a8224d1a959e0df144164e27', client_secret = '90f565603ebb4c65820985c25482fdcc')\n",
    "#sp = spotipy.Spotify(client_credentials_manager=client_credentials_manager)\n",
    "\n",
    "token = util.prompt_for_user_token(\n",
    "        username= 'input_username,'\n",
    "        scope='user-top-read',\n",
    "        client_id= 'b9c0a9e7a8224d1a959e0df144164e27',\n",
    "        client_secret='90f565603ebb4c65820985c25482fdcc',\n",
    "        redirect_uri='http://localhost:8888/callback/')\n",
    "\n",
    "spotify = spotipy.Spotify(auth=token)\n",
    "\n",
    "if token:\n",
    "    sp = spotipy.Spotify(auth=token)\n",
    "    results = sp.current_user_top_tracks(limit=20,offset=0,time_range='medium_term')\n",
    "    for track in results['items']:\n",
    "        print(track['name'] + ' - ' + track['artists'][0]['name'])\n",
    "else:\n",
    "    print(\"Can't get token for\", username)\n",
    "\n"
   ]
  },
  {
   "cell_type": "code",
   "execution_count": 5,
   "metadata": {},
   "outputs": [
    {
     "name": "stdout",
     "output_type": "stream",
     "text": [
      "Help on function prompt_for_user_token in module spotipy.util:\n",
      "\n",
      "prompt_for_user_token(username, scope=None, client_id=None, client_secret=None, redirect_uri=None)\n",
      "    prompts the user to login if necessary and returns\n",
      "    the user token suitable for use with the spotipy.Spotify \n",
      "    constructor\n",
      "    \n",
      "    Parameters:\n",
      "    \n",
      "     - username - the Spotify username\n",
      "     - scope - the desired scope of the request\n",
      "     - client_id - the client id of your app\n",
      "     - client_secret - the client secret of your app\n",
      "     - redirect_uri - the redirect URI of your app\n",
      "\n"
     ]
    }
   ],
   "source": [
    "help(util.prompt_for_user_token)"
   ]
  },
  {
   "cell_type": "code",
   "execution_count": null,
   "metadata": {},
   "outputs": [],
   "source": []
  }
 ],
 "metadata": {
  "kernelspec": {
   "display_name": "Python 3",
   "language": "python",
   "name": "python3"
  },
  "language_info": {
   "codemirror_mode": {
    "name": "ipython",
    "version": 3
   },
   "file_extension": ".py",
   "mimetype": "text/x-python",
   "name": "python",
   "nbconvert_exporter": "python",
   "pygments_lexer": "ipython3",
   "version": "3.6.3"
  }
 },
 "nbformat": 4,
 "nbformat_minor": 2
}
